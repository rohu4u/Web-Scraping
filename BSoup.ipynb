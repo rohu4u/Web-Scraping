{
 "cells": [
  {
   "cell_type": "code",
   "execution_count": null,
   "id": "549176a9",
   "metadata": {},
   "outputs": [],
   "source": [
    "import requests\n",
    "from bs4 import BeautifulSoup\n",
    "import csv"
   ]
  },
  {
   "cell_type": "code",
   "execution_count": null,
   "id": "ac870bfd",
   "metadata": {},
   "outputs": [],
   "source": [
    "# specify the URL of the website you want to scrape\n",
    "url = \"....\""
   ]
  },
  {
   "cell_type": "code",
   "execution_count": null,
   "id": "2b81d5a6",
   "metadata": {},
   "outputs": [],
   "source": [
    "# send an HTTP GET request to the website\n",
    "response = requests.get(url)"
   ]
  },
  {
   "cell_type": "code",
   "execution_count": null,
   "id": "eb961e83",
   "metadata": {},
   "outputs": [],
   "source": [
    "# parse the HTML content of the website\n",
    "soup = BeautifulSoup(response.content, \"html.parser\")"
   ]
  },
  {
   "cell_type": "code",
   "execution_count": null,
   "id": "4070b31c",
   "metadata": {},
   "outputs": [],
   "source": [
    "# locate the elements you want to scrape\n",
    "data_elements = soup.select(\"css-selector-for-data-elements\")"
   ]
  },
  {
   "cell_type": "code",
   "execution_count": null,
   "id": "3fa10ec4",
   "metadata": {},
   "outputs": [],
   "source": [
    "# create an empty list to store the data\n",
    "data = []"
   ]
  },
  {
   "cell_type": "code",
   "execution_count": null,
   "id": "9d0153cf",
   "metadata": {},
   "outputs": [],
   "source": [
    "# iterate over the elements and extract the data\n",
    "for element in data_elements:\n",
    "    # extract the data from the element\n",
    "    datapoint = element.text\n",
    "    # add the data to the list\n",
    "    data.append(datapoint)"
   ]
  },
  {
   "cell_type": "code",
   "execution_count": null,
   "id": "5ec0b73c",
   "metadata": {},
   "outputs": [],
   "source": [
    "# write the data to a CSV file\n",
    "with open(\"industrial_data.csv\", \"w\", newline=\"\") as f:\n",
    "    writer = csv.writer(f)\n",
    "    writer.writerow([\"Data\"])\n",
    "    writer.writerows([[d] for d in data])"
   ]
  }
 ],
 "metadata": {
  "kernelspec": {
   "display_name": "Python 3 (ipykernel)",
   "language": "python",
   "name": "python3"
  },
  "language_info": {
   "codemirror_mode": {
    "name": "ipython",
    "version": 3
   },
   "file_extension": ".py",
   "mimetype": "text/x-python",
   "name": "python",
   "nbconvert_exporter": "python",
   "pygments_lexer": "ipython3",
   "version": "3.8.13"
  }
 },
 "nbformat": 4,
 "nbformat_minor": 5
}
