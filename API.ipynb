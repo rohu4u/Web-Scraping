{
 "cells": [
  {
   "cell_type": "code",
   "execution_count": null,
   "id": "1e044efa",
   "metadata": {},
   "outputs": [],
   "source": [
    "import requests\n",
    "import csv"
   ]
  },
  {
   "cell_type": "code",
   "execution_count": null,
   "id": "804a8d03",
   "metadata": {},
   "outputs": [],
   "source": [
    "# specify the API endpoint and any necessary parameters\n",
    "url = \"https://api.example.com/medical-data\"\n",
    "params = {\"key\": \"your_api_key\", \"format\": \"json\"}"
   ]
  },
  {
   "cell_type": "code",
   "execution_count": null,
   "id": "73e25bc5",
   "metadata": {},
   "outputs": [],
   "source": [
    "# send an HTTP GET request to the API\n",
    "response = requests.get(url, params=params)"
   ]
  },
  {
   "cell_type": "code",
   "execution_count": null,
   "id": "30c273fe",
   "metadata": {},
   "outputs": [],
   "source": [
    "# convert the JSON response to a Python dictionary\n",
    "data = response.json()"
   ]
  },
  {
   "cell_type": "code",
   "execution_count": null,
   "id": "cdd3f7fe",
   "metadata": {},
   "outputs": [],
   "source": [
    "# extract the data from the dictionary\n",
    "data_points = data[\"data\"]"
   ]
  },
  {
   "cell_type": "code",
   "execution_count": null,
   "id": "cea6da7b",
   "metadata": {},
   "outputs": [],
   "source": [
    "# write the data to a CSV file\n",
    "with open(\"medical_data.csv\", \"w\", newline=\"\") as f:\n",
    "    writer = csv.DictWriter(f, fieldnames=data_points[0].keys())\n",
    "    writer.writeheader()\n",
    "    writer.writerows(data_points)"
   ]
  }
 ],
 "metadata": {
  "kernelspec": {
   "display_name": "Python 3 (ipykernel)",
   "language": "python",
   "name": "python3"
  },
  "language_info": {
   "codemirror_mode": {
    "name": "ipython",
    "version": 3
   },
   "file_extension": ".py",
   "mimetype": "text/x-python",
   "name": "python",
   "nbconvert_exporter": "python",
   "pygments_lexer": "ipython3",
   "version": "3.8.13"
  }
 },
 "nbformat": 4,
 "nbformat_minor": 5
}
